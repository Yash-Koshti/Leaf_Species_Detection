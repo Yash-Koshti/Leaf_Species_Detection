{
 "cells": [
  {
   "cell_type": "markdown",
   "metadata": {},
   "source": [
    "# Image testing for pre-processing"
   ]
  },
  {
   "cell_type": "markdown",
   "metadata": {},
   "source": [
    "## Importing Modules"
   ]
  },
  {
   "cell_type": "code",
   "execution_count": 22,
   "metadata": {},
   "outputs": [],
   "source": [
    "import cv2 as cv\n",
    "import numpy as np\n",
    "import matplotlib.pyplot as plt\n",
    "\n",
    "import csv\n",
    "import json\n",
    "from os import listdir\n",
    "from os.path import isfile, join\n",
    "\n",
    "from ManageLeafData import ManageLeafData as mld"
   ]
  },
  {
   "cell_type": "markdown",
   "metadata": {},
   "source": [
    "## Loading image"
   ]
  },
  {
   "cell_type": "code",
   "execution_count": 4,
   "metadata": {},
   "outputs": [],
   "source": [
    "img_1 = cv.imread('Collected Leaf data/Our Collection/Natural/IMG_20230922_171310509.jpg')\n",
    "cv.imshow('Raw Image', img_1)\n",
    "cv.waitKey(0)\n",
    "cv.destroyAllWindows()"
   ]
  },
  {
   "cell_type": "markdown",
   "metadata": {},
   "source": [
    "## Image Smoothening"
   ]
  },
  {
   "cell_type": "code",
   "execution_count": 5,
   "metadata": {},
   "outputs": [],
   "source": [
    "def GaussianSmoothing(mat):\n",
    "    _pi = 3.14\n",
    "    _sd = np.std(mat)\n",
    "    _e = 2.718\n",
    "    for y in range(len(mat)):\n",
    "        for x in range(len(mat[y])):\n",
    "            try:\n",
    "                mat[y][x] = ((1 / (2 * _pi * (_sd ** 2)))) * (_e ** (((x ** 2) + (y ** 2)) * (1 / (2 * (x ** 2)))))\n",
    "            except ZeroDivisionError:\n",
    "                pass\n",
    "    return mat"
   ]
  },
  {
   "cell_type": "code",
   "execution_count": 6,
   "metadata": {},
   "outputs": [],
   "source": [
    "# img_1_myGblur = GaussianSmoothing(cv.cvtColor(img_1, cv.COLOR_BGR2GRAY))\n",
    "\n",
    "# img_1_myGblur_resized = cv.resize(img_1_myGblur, (1000, 1000))\n",
    "# cv.imshow('Image Gaussian Blur & Resized', img_1_myGblur_resized)\n",
    "# cv.waitKey(0)\n",
    "# cv.destroyAllWindows()"
   ]
  },
  {
   "cell_type": "code",
   "execution_count": 7,
   "metadata": {},
   "outputs": [],
   "source": [
    "# img_1_resized_Gblur = cv.GaussianBlur(img_1_resized, (7,7), 0)\n",
    "# cv.imshow('Image Resized & Gaussian Blur', img_1_resized_Gblur)\n",
    "# cv.waitKey(0)\n",
    "# cv.destroyAllWindows()\n",
    "\n",
    "img_1_Gblur = cv.GaussianBlur(img_1, (7,7), 0)\n",
    "cv.imshow('Image Gaussian Blur', img_1_Gblur)\n",
    "cv.waitKey(0)\n",
    "cv.destroyAllWindows()"
   ]
  },
  {
   "cell_type": "markdown",
   "metadata": {},
   "source": [
    "## Image Resizing"
   ]
  },
  {
   "cell_type": "code",
   "execution_count": 8,
   "metadata": {},
   "outputs": [],
   "source": [
    "# img_1_resized = cv.resize(img_1, (int(img_1.shape[1] / 6), int(img_1.shape[0] / 6)))\n",
    "# cv.imshow('Image Resized', img_1_resized)\n",
    "# cv.waitKey(0)\n",
    "# cv.destroyAllWindows()\n",
    "\n",
    "img_1_Gblur_resized = cv.resize(img_1_Gblur, (1000, 1000))\n",
    "cv.imshow('Image Gaussian Blur & Resized', img_1_Gblur_resized)\n",
    "cv.waitKey(0)\n",
    "cv.destroyAllWindows()"
   ]
  },
  {
   "cell_type": "code",
   "execution_count": 9,
   "metadata": {},
   "outputs": [],
   "source": [
    "img_1_Gblur_resized_gray = cv.cvtColor(img_1_Gblur_resized, cv.COLOR_BGR2GRAY)\n",
    "cv.imshow('Image Gaussian Blur & Resized & Gray', img_1_Gblur_resized_gray)\n",
    "cv.waitKey(0)\n",
    "cv.destroyAllWindows()"
   ]
  },
  {
   "cell_type": "code",
   "execution_count": 10,
   "metadata": {},
   "outputs": [],
   "source": [
    "# Function to map each intensity level to output intensity level. \n",
    "def pixelVal(pix, r1, s1, r2, s2): \n",
    "\tif (0 <= pix and pix <= r1): \n",
    "\t\treturn (s1 / r1)*pix \n",
    "\telif (r1 < pix and pix <= r2): \n",
    "\t\treturn ((s2 - s1)/(r2 - r1)) * (pix - r1) + s1 \n",
    "\telse: \n",
    "\t\treturn ((255 - s2)/(255 - r2)) * (pix - r2) + s2 \n",
    "\n",
    "# Define parameters. \n",
    "r1 = 110 # controls darkness\n",
    "s1 = 0.15 # lower bound\n",
    "r2 = 7 # controls lightness\n",
    "s2 = 250 # upper bound\n",
    "\n",
    "# Vectorize the function to apply it to each value in the Numpy array. \n",
    "pixelVal_vec = np.vectorize(pixelVal) \n",
    "\n",
    "# Apply contrast stretching. \n",
    "img_1_contrast_stretched = pixelVal_vec(img_1_Gblur_resized_gray, r1, s1, r2, s2) \n",
    "\n",
    "cv.imshow('Contrast Stretching', img_1_contrast_stretched)\n",
    "cv.waitKey(0)\n",
    "cv.destroyAllWindows()\n"
   ]
  },
  {
   "cell_type": "code",
   "execution_count": 11,
   "metadata": {},
   "outputs": [],
   "source": [
    "img_thresh = cv.threshold(img_1_Gblur_resized_gray, 127, 255, cv.THRESH_BINARY)\n",
    "cv.imshow('Thresholding', img_thresh[1])\n",
    "cv.waitKey(0)\n",
    "cv.destroyAllWindows()\n",
    "\n",
    "# print(img_thresh)"
   ]
  },
  {
   "cell_type": "code",
   "execution_count": 12,
   "metadata": {},
   "outputs": [],
   "source": [
    "img_hist = cv.equalizeHist(img_thresh[1])\n",
    "cv.imshow('Histogram equlization', img_hist)\n",
    "cv.waitKey(0)\n",
    "cv.destroyAllWindows()"
   ]
  },
  {
   "cell_type": "markdown",
   "metadata": {},
   "source": [
    "## Combining these processes in a single function"
   ]
  },
  {
   "cell_type": "code",
   "execution_count": 13,
   "metadata": {},
   "outputs": [],
   "source": [
    "def ImagePreprocess(name: str):\n",
    "    cv.imshow('Final Image', pixelVal_vec(cv.resize(cv.GaussianBlur(cv.imread(name)\n",
    "                                           , (7,7), 0), \n",
    "                           (1000, 1000)), \n",
    "                r1, s1, r2, s2))\n",
    "    cv.waitKey(0)\n",
    "    cv.destroyAllWindows()"
   ]
  },
  {
   "cell_type": "code",
   "execution_count": 14,
   "metadata": {},
   "outputs": [],
   "source": [
    "ImagePreprocess('Collected Leaf data/Our Collection/Natural/IMG_20230922_171255218.jpg')"
   ]
  },
  {
   "cell_type": "code",
   "execution_count": 15,
   "metadata": {},
   "outputs": [],
   "source": [
    "ImagePreprocess('Collected Leaf data/Our Collection/Natural/IMG20230922165200.jpg')"
   ]
  },
  {
   "cell_type": "code",
   "execution_count": 16,
   "metadata": {},
   "outputs": [],
   "source": [
    "ImagePreprocess('Collected Leaf data/Our Collection/Natural/IMG20230922170108.jpg')"
   ]
  },
  {
   "cell_type": "code",
   "execution_count": 17,
   "metadata": {},
   "outputs": [],
   "source": [
    "ImagePreprocess('Collected Leaf data/Our Collection/Natural/IMG20230922170842.jpg')"
   ]
  },
  {
   "cell_type": "code",
   "execution_count": 19,
   "metadata": {},
   "outputs": [],
   "source": [
    "ImagePreprocess('Collected Leaf data/Botany Collection/Natural/IMG20231004155721.jpg')"
   ]
  },
  {
   "cell_type": "markdown",
   "metadata": {},
   "source": [
    "## Getting name of the images in a list."
   ]
  },
  {
   "cell_type": "code",
   "execution_count": 24,
   "metadata": {},
   "outputs": [],
   "source": [
    "myPath = \"Collected Leaf data/Botany Collection/Natural/\""
   ]
  },
  {
   "cell_type": "markdown",
   "metadata": {},
   "source": [
    "## Mapping images of 'Botany Collection/Natural/'"
   ]
  },
  {
   "cell_type": "markdown",
   "metadata": {},
   "source": [
    "## Mapping completed and stored in Lead_Data_Mapped.csv file"
   ]
  },
  {
   "cell_type": "markdown",
   "metadata": {},
   "source": [
    "## Testing ManageLeafData"
   ]
  },
  {
   "cell_type": "code",
   "execution_count": 23,
   "metadata": {},
   "outputs": [],
   "source": [
    "mld.createSpeciesJsonFile()"
   ]
  },
  {
   "cell_type": "code",
   "execution_count": null,
   "metadata": {},
   "outputs": [],
   "source": []
  }
 ],
 "metadata": {
  "kernelspec": {
   "display_name": "Python 3 (ipykernel)",
   "language": "python",
   "name": "python3"
  },
  "language_info": {
   "codemirror_mode": {
    "name": "ipython",
    "version": 3
   },
   "file_extension": ".py",
   "mimetype": "text/x-python",
   "name": "python",
   "nbconvert_exporter": "python",
   "pygments_lexer": "ipython3",
   "version": "3.10.11"
  }
 },
 "nbformat": 4,
 "nbformat_minor": 2
}
