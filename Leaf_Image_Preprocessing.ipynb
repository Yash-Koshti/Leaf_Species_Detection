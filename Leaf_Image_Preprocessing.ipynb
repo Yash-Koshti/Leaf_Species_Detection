{
 "cells": [
  {
   "cell_type": "markdown",
   "metadata": {},
   "source": [
    "# Image testing for pre-processing"
   ]
  },
  {
   "cell_type": "markdown",
   "metadata": {},
   "source": [
    "## Importing Modules"
   ]
  },
  {
   "cell_type": "code",
   "execution_count": 1,
   "metadata": {},
   "outputs": [],
   "source": [
    "import cv2 as cv\n",
    "import numpy as np\n",
    "import matplotlib.pyplot as plt\n",
    "\n",
    "import csv\n",
    "import json\n",
    "from os import listdir\n",
    "from os.path import isfile, join\n",
    "\n",
    "from ManageLeafData import ManageLeafData as mld"
   ]
  },
  {
   "cell_type": "markdown",
   "metadata": {},
   "source": [
    "## Loading image"
   ]
  },
  {
   "cell_type": "code",
   "execution_count": 2,
   "metadata": {},
   "outputs": [],
   "source": [
    "# Global path must not be changed unless machine has been changed.\n",
    "global_path = 'Collected Leaf data/Our Collection/Natural/'\n",
    "# Local path can be changed anywhere, so before using it, specify the required path.\n",
    "local_path = ''"
   ]
  },
  {
   "cell_type": "code",
   "execution_count": 3,
   "metadata": {},
   "outputs": [],
   "source": [
    "img_1 = cv.imread(global_path + 'IMG_20230922_171310509.jpg')\n",
    "cv.imshow('Raw Image', img_1)\n",
    "cv.waitKey(0)\n",
    "cv.destroyAllWindows()"
   ]
  },
  {
   "cell_type": "code",
   "execution_count": 4,
   "metadata": {},
   "outputs": [],
   "source": [
    "image_lst = ['IMG_20230922_171255218.jpg', 'IMG20230922165200.jpg', 'IMG20230922170108.jpg', 'IMG20230922170842.jpg', 'IMG20231004155721.jpg']\n",
    "# In this list the last image is from Botany collection, thus its path must be change."
   ]
  },
  {
   "cell_type": "markdown",
   "metadata": {},
   "source": [
    "## Image Smoothening"
   ]
  },
  {
   "cell_type": "code",
   "execution_count": 4,
   "metadata": {},
   "outputs": [],
   "source": [
    "def GaussianSmoothing(mat):\n",
    "    _pi = 3.14\n",
    "    _sd = np.std(mat)\n",
    "    _e = 2.718\n",
    "    for y in range(len(mat)):\n",
    "        for x in range(len(mat[y])):\n",
    "            try:\n",
    "                mat[y][x] = ((1 / (2 * _pi * (_sd ** 2)))) * (_e ** (((x ** 2) + (y ** 2)) * (1 / (2 * (x ** 2)))))\n",
    "            except ZeroDivisionError:\n",
    "                pass\n",
    "    return mat"
   ]
  },
  {
   "cell_type": "code",
   "execution_count": 5,
   "metadata": {},
   "outputs": [],
   "source": [
    "# img_1_myGblur = GaussianSmoothing(cv.cvtColor(img_1, cv.COLOR_BGR2GRAY))\n",
    "\n",
    "# img_1_myGblur_resized = cv.resize(img_1_myGblur, (1000, 1000))\n",
    "# cv.imshow('Image Gaussian Blur & Resized', img_1_myGblur_resized)\n",
    "# cv.waitKey(0)\n",
    "# cv.destroyAllWindows()"
   ]
  },
  {
   "cell_type": "code",
   "execution_count": 7,
   "metadata": {},
   "outputs": [],
   "source": [
    "# img_1_resized_Gblur = cv.GaussianBlur(img_1_resized, (7,7), 0)\n",
    "# cv.imshow('Image Resized & Gaussian Blur', img_1_resized_Gblur)\n",
    "# cv.waitKey(0)\n",
    "# cv.destroyAllWindows()\n",
    "\n",
    "img_1_Gblur = cv.GaussianBlur(img_1, (7,7), 0)\n",
    "cv.imshow('Image Gaussian Blur', img_1_Gblur)\n",
    "cv.waitKey(0)\n",
    "cv.destroyAllWindows()"
   ]
  },
  {
   "cell_type": "markdown",
   "metadata": {},
   "source": [
    "## Image Resizing"
   ]
  },
  {
   "cell_type": "code",
   "execution_count": 8,
   "metadata": {},
   "outputs": [],
   "source": [
    "# img_1_resized = cv.resize(img_1, (int(img_1.shape[1] / 6), int(img_1.shape[0] / 6)))\n",
    "# cv.imshow('Image Resized', img_1_resized)\n",
    "# cv.waitKey(0)\n",
    "# cv.destroyAllWindows()\n",
    "\n",
    "img_1_Gblur_resized = cv.resize(img_1_Gblur, (1000, 1000))\n",
    "cv.imshow('Image Gaussian Blur & Resized', img_1_Gblur_resized)\n",
    "cv.waitKey(0)\n",
    "cv.destroyAllWindows()"
   ]
  },
  {
   "cell_type": "markdown",
   "metadata": {},
   "source": [
    "## Gray Scaling"
   ]
  },
  {
   "cell_type": "code",
   "execution_count": 9,
   "metadata": {},
   "outputs": [],
   "source": [
    "img_1_Gblur_resized_gray = cv.cvtColor(img_1_Gblur_resized, cv.COLOR_BGR2GRAY)\n",
    "cv.imshow('Image Gaussian Blur & Resized & Gray', img_1_Gblur_resized_gray)\n",
    "cv.waitKey(0)\n",
    "cv.destroyAllWindows()"
   ]
  },
  {
   "cell_type": "code",
   "execution_count": 10,
   "metadata": {},
   "outputs": [],
   "source": [
    "# Function to map each intensity level to output intensity level. \n",
    "def pixelVal(pix, r1, s1, r2, s2): \n",
    "    if (0 <= pix and pix <= r1): \n",
    "        return (s1 / r1)*pix \n",
    "    elif (r1 < pix and pix <= r2): \n",
    "        return ((s2 - s1)/(r2 - r1)) * (pix - r1) + s1 \n",
    "    else: \n",
    "        return ((255 - s2)/(255 - r2)) * (pix - r2) + s2 \n",
    "\n",
    "# Define parameters. \n",
    "r1 = 110 # controls darkness\n",
    "s1 = 0.15 # lower bound\n",
    "r2 = 7 # controls lightness\n",
    "s2 = 250 # upper bound\n",
    "\n",
    "# Vectorize the function to apply it to each value in the Numpy array. \n",
    "pixelVal_vec = np.vectorize(pixelVal) \n",
    "\n",
    "# Apply contrast stretching. \n",
    "img_1_contrast_stretched = pixelVal_vec(img_1_Gblur_resized_gray, r1, s1, r2, s2) \n",
    "\n",
    "cv.imshow('Contrast Stretching', img_1_contrast_stretched)\n",
    "cv.waitKey(0)\n",
    "cv.destroyAllWindows()\n"
   ]
  },
  {
   "cell_type": "code",
   "execution_count": 11,
   "metadata": {},
   "outputs": [],
   "source": [
    "img_thresh = cv.threshold(img_1_Gblur_resized_gray, 127, 255, cv.THRESH_BINARY)\n",
    "cv.imshow('Thresholding', img_thresh[1])\n",
    "cv.waitKey(0)\n",
    "cv.destroyAllWindows()\n",
    "\n",
    "# print(img_thresh)"
   ]
  },
  {
   "cell_type": "code",
   "execution_count": 68,
   "metadata": {},
   "outputs": [],
   "source": [
    "img_adptthresh = cv.adaptiveThreshold(img_1_Gblur_resized_gray, 255, cv.ADAPTIVE_THRESH_MEAN_C, cv.THRESH_BINARY, 199, 0)\n",
    "cv.imshow('Adaptive Thresholding', img_adptthresh)\n",
    "cv.waitKey(0)\n",
    "cv.destroyAllWindows()"
   ]
  },
  {
   "cell_type": "code",
   "execution_count": 98,
   "metadata": {},
   "outputs": [],
   "source": [
    "img_adptthresh1 = cv.adaptiveThreshold(img_1_Gblur_resized_gray, 255, cv.ADAPTIVE_THRESH_MEAN_C, cv.THRESH_BINARY, 199, 3.5)\n",
    "cv.imshow('Adaptive Thresholding 1', img_adptthresh1)\n",
    "# img_adptthresh2 = cv.adaptiveThreshold(img_1_Gblur_resized_gray, 255, cv.ADAPTIVE_THRESH_MEAN_C, cv.THRESH_BINARY, 199, 4)\n",
    "# cv.imshow('Adaptive Thresholding 2', img_adptthresh2)\n",
    "img_adptthresh3 = cv.adaptiveThreshold(img_1_Gblur_resized_gray, 255, cv.ADAPTIVE_THRESH_MEAN_C, cv.THRESH_BINARY, 1001, 3.5)\n",
    "cv.imshow('Adaptive Thresholding 3', img_adptthresh3)\n",
    "cv.waitKey(0)\n",
    "cv.destroyAllWindows()"
   ]
  },
  {
   "cell_type": "code",
   "execution_count": 25,
   "metadata": {},
   "outputs": [],
   "source": [
    "img_hist = cv.equalizeHist(img_thresh[1])\n",
    "cv.imshow('Histogram equlization', img_hist)\n",
    "cv.waitKey(0)\n",
    "cv.destroyAllWindows()"
   ]
  },
  {
   "cell_type": "markdown",
   "metadata": {},
   "source": [
    "## Combining these processes in a single function"
   ]
  },
  {
   "cell_type": "code",
   "execution_count": 5,
   "metadata": {},
   "outputs": [],
   "source": [
    "def ImagePreprocess_Combination_1(name: str):\n",
    "    cv.imshow('Final Image', pixelVal_vec(cv.resize(cv.GaussianBlur(cv.imread(name)\n",
    "                                           , (7,7), 0), \n",
    "                           (1000, 1000)), \n",
    "                r1, s1, r2, s2))\n",
    "    cv.waitKey(0)\n",
    "    cv.destroyAllWindows()"
   ]
  },
  {
   "cell_type": "code",
   "execution_count": 6,
   "metadata": {},
   "outputs": [],
   "source": [
    "def ImagePreprocess_Combination_2(name: str):\n",
    "    cv.imshow('Final Image', cv.equalizeHist(cv.adaptiveThreshold(cv.cvtColor(cv.resize(cv.GaussianBlur(cv.imread(name)\n",
    "                                                                                                        , (7,7), 0)\n",
    "                                                                                        , (1000, 1000))\n",
    "                                                                              , cv.COLOR_BGR2GRAY)\n",
    "                                                                  , 255, cv.ADAPTIVE_THRESH_MEAN_C, cv.THRESH_BINARY, 199, 5)\n",
    "                                            )\n",
    "             )\n",
    "    cv.waitKey(0)\n",
    "    cv.destroyAllWindows()"
   ]
  },
  {
   "cell_type": "code",
   "execution_count": 31,
   "metadata": {},
   "outputs": [
    {
     "ename": "error",
     "evalue": "OpenCV(4.8.0) D:\\a\\opencv-python\\opencv-python\\opencv\\modules\\imgproc\\src\\smooth.dispatch.cpp:617: error: (-215:Assertion failed) !_src.empty() in function 'cv::GaussianBlur'\n",
     "output_type": "error",
     "traceback": [
      "\u001b[1;31m---------------------------------------------------------------------------\u001b[0m",
      "\u001b[1;31merror\u001b[0m                                     Traceback (most recent call last)",
      "\u001b[1;32mg:\\MCA\\Leaf Species Detection\\Leaf_Image_Preprocessing.ipynb Cell 24\u001b[0m line \u001b[0;36m2\n\u001b[0;32m      <a href='vscode-notebook-cell:/g%3A/MCA/Leaf%20Species%20Detection/Leaf_Image_Preprocessing.ipynb#X30sZmlsZQ%3D%3D?line=0'>1</a>\u001b[0m \u001b[39mfor\u001b[39;00m image \u001b[39min\u001b[39;00m image_lst:\n\u001b[1;32m----> <a href='vscode-notebook-cell:/g%3A/MCA/Leaf%20Species%20Detection/Leaf_Image_Preprocessing.ipynb#X30sZmlsZQ%3D%3D?line=1'>2</a>\u001b[0m     ImagePreprocess_Combination_2(global_path \u001b[39m+\u001b[39;49m image)\n",
      "\u001b[1;32mg:\\MCA\\Leaf Species Detection\\Leaf_Image_Preprocessing.ipynb Cell 24\u001b[0m line \u001b[0;36m2\n\u001b[0;32m      <a href='vscode-notebook-cell:/g%3A/MCA/Leaf%20Species%20Detection/Leaf_Image_Preprocessing.ipynb#X30sZmlsZQ%3D%3D?line=0'>1</a>\u001b[0m \u001b[39mdef\u001b[39;00m \u001b[39mImagePreprocess_Combination_2\u001b[39m(name: \u001b[39mstr\u001b[39m):\n\u001b[1;32m----> <a href='vscode-notebook-cell:/g%3A/MCA/Leaf%20Species%20Detection/Leaf_Image_Preprocessing.ipynb#X30sZmlsZQ%3D%3D?line=1'>2</a>\u001b[0m     cv\u001b[39m.\u001b[39mimshow(\u001b[39m'\u001b[39m\u001b[39mFinal Image\u001b[39m\u001b[39m'\u001b[39m, cv\u001b[39m.\u001b[39mequalizeHist(cv\u001b[39m.\u001b[39madaptiveThreshold(cv\u001b[39m.\u001b[39mcvtColor(cv\u001b[39m.\u001b[39mresize(cv\u001b[39m.\u001b[39;49mGaussianBlur(cv\u001b[39m.\u001b[39;49mimread(name)\n\u001b[0;32m      <a href='vscode-notebook-cell:/g%3A/MCA/Leaf%20Species%20Detection/Leaf_Image_Preprocessing.ipynb#X30sZmlsZQ%3D%3D?line=2'>3</a>\u001b[0m                                                                                                         , (\u001b[39m7\u001b[39;49m,\u001b[39m7\u001b[39;49m), \u001b[39m0\u001b[39;49m)\n\u001b[0;32m      <a href='vscode-notebook-cell:/g%3A/MCA/Leaf%20Species%20Detection/Leaf_Image_Preprocessing.ipynb#X30sZmlsZQ%3D%3D?line=3'>4</a>\u001b[0m                                                                                         , (\u001b[39m1000\u001b[39m, \u001b[39m1000\u001b[39m))\n\u001b[0;32m      <a href='vscode-notebook-cell:/g%3A/MCA/Leaf%20Species%20Detection/Leaf_Image_Preprocessing.ipynb#X30sZmlsZQ%3D%3D?line=4'>5</a>\u001b[0m                                                                               , cv\u001b[39m.\u001b[39mCOLOR_BGR2GRAY)\n\u001b[0;32m      <a href='vscode-notebook-cell:/g%3A/MCA/Leaf%20Species%20Detection/Leaf_Image_Preprocessing.ipynb#X30sZmlsZQ%3D%3D?line=5'>6</a>\u001b[0m                                                                   , \u001b[39m255\u001b[39m, cv\u001b[39m.\u001b[39mADAPTIVE_THRESH_MEAN_C, cv\u001b[39m.\u001b[39mTHRESH_BINARY, \u001b[39m199\u001b[39m, \u001b[39m5\u001b[39m)\n\u001b[0;32m      <a href='vscode-notebook-cell:/g%3A/MCA/Leaf%20Species%20Detection/Leaf_Image_Preprocessing.ipynb#X30sZmlsZQ%3D%3D?line=6'>7</a>\u001b[0m                                             )\n\u001b[0;32m      <a href='vscode-notebook-cell:/g%3A/MCA/Leaf%20Species%20Detection/Leaf_Image_Preprocessing.ipynb#X30sZmlsZQ%3D%3D?line=7'>8</a>\u001b[0m              )\n\u001b[0;32m      <a href='vscode-notebook-cell:/g%3A/MCA/Leaf%20Species%20Detection/Leaf_Image_Preprocessing.ipynb#X30sZmlsZQ%3D%3D?line=8'>9</a>\u001b[0m     cv\u001b[39m.\u001b[39mwaitKey(\u001b[39m0\u001b[39m)\n\u001b[0;32m     <a href='vscode-notebook-cell:/g%3A/MCA/Leaf%20Species%20Detection/Leaf_Image_Preprocessing.ipynb#X30sZmlsZQ%3D%3D?line=9'>10</a>\u001b[0m     cv\u001b[39m.\u001b[39mdestroyAllWindows()\n",
      "\u001b[1;31merror\u001b[0m: OpenCV(4.8.0) D:\\a\\opencv-python\\opencv-python\\opencv\\modules\\imgproc\\src\\smooth.dispatch.cpp:617: error: (-215:Assertion failed) !_src.empty() in function 'cv::GaussianBlur'\n"
     ]
    }
   ],
   "source": [
    "for image in image_lst:\n",
    "    ImagePreprocess_Combination_2(global_path + image)"
   ]
  },
  {
   "cell_type": "code",
   "execution_count": 7,
   "metadata": {},
   "outputs": [
    {
     "data": {
      "text/html": [
       "<div>\n",
       "<style scoped>\n",
       "    .dataframe tbody tr th:only-of-type {\n",
       "        vertical-align: middle;\n",
       "    }\n",
       "\n",
       "    .dataframe tbody tr th {\n",
       "        vertical-align: top;\n",
       "    }\n",
       "\n",
       "    .dataframe thead th {\n",
       "        text-align: right;\n",
       "    }\n",
       "</style>\n",
       "<table border=\"1\" class=\"dataframe\">\n",
       "  <thead>\n",
       "    <tr style=\"text-align: right;\">\n",
       "      <th></th>\n",
       "      <th>Image</th>\n",
       "      <th>Common name</th>\n",
       "      <th>Scientific name</th>\n",
       "      <th>Class number</th>\n",
       "    </tr>\n",
       "  </thead>\n",
       "  <tbody>\n",
       "    <tr>\n",
       "      <th>0</th>\n",
       "      <td>IMG20231004154634.jpg</td>\n",
       "      <td>Peepla</td>\n",
       "      <td>Ficus religiosa</td>\n",
       "      <td>0</td>\n",
       "    </tr>\n",
       "    <tr>\n",
       "      <th>1</th>\n",
       "      <td>IMG20231004154651.jpg</td>\n",
       "      <td>Peepla</td>\n",
       "      <td>Ficus religiosa</td>\n",
       "      <td>0</td>\n",
       "    </tr>\n",
       "    <tr>\n",
       "      <th>2</th>\n",
       "      <td>IMG20231004154748.jpg</td>\n",
       "      <td>Peepla</td>\n",
       "      <td>Ficus religiosa</td>\n",
       "      <td>0</td>\n",
       "    </tr>\n",
       "    <tr>\n",
       "      <th>3</th>\n",
       "      <td>IMG20231004154809.jpg</td>\n",
       "      <td>Peepla</td>\n",
       "      <td>Ficus religiosa</td>\n",
       "      <td>0</td>\n",
       "    </tr>\n",
       "    <tr>\n",
       "      <th>4</th>\n",
       "      <td>IMG20231004154917.jpg</td>\n",
       "      <td>Peepla</td>\n",
       "      <td>Ficus religiosa</td>\n",
       "      <td>0</td>\n",
       "    </tr>\n",
       "    <tr>\n",
       "      <th>...</th>\n",
       "      <td>...</td>\n",
       "      <td>...</td>\n",
       "      <td>...</td>\n",
       "      <td>...</td>\n",
       "    </tr>\n",
       "    <tr>\n",
       "      <th>92</th>\n",
       "      <td>IMG20231004172618.jpg</td>\n",
       "      <td>Pipal</td>\n",
       "      <td>Ficus amplissima</td>\n",
       "      <td>19</td>\n",
       "    </tr>\n",
       "    <tr>\n",
       "      <th>93</th>\n",
       "      <td>IMG20231004172657.jpg</td>\n",
       "      <td>Pipal</td>\n",
       "      <td>Ficus amplissima</td>\n",
       "      <td>19</td>\n",
       "    </tr>\n",
       "    <tr>\n",
       "      <th>94</th>\n",
       "      <td>IMG20231004172723.jpg</td>\n",
       "      <td>Pipal</td>\n",
       "      <td>Ficus amplissima</td>\n",
       "      <td>19</td>\n",
       "    </tr>\n",
       "    <tr>\n",
       "      <th>95</th>\n",
       "      <td>IMG20231004172803.jpg</td>\n",
       "      <td>Pipal</td>\n",
       "      <td>Ficus amplissima</td>\n",
       "      <td>19</td>\n",
       "    </tr>\n",
       "    <tr>\n",
       "      <th>96</th>\n",
       "      <td>IMG20231004172823.jpg</td>\n",
       "      <td>Pipal</td>\n",
       "      <td>Ficus amplissima</td>\n",
       "      <td>19</td>\n",
       "    </tr>\n",
       "  </tbody>\n",
       "</table>\n",
       "<p>97 rows × 4 columns</p>\n",
       "</div>"
      ],
      "text/plain": [
       "                    Image Common name   Scientific name  Class number\n",
       "0   IMG20231004154634.jpg      Peepla   Ficus religiosa             0\n",
       "1   IMG20231004154651.jpg      Peepla   Ficus religiosa             0\n",
       "2   IMG20231004154748.jpg      Peepla   Ficus religiosa             0\n",
       "3   IMG20231004154809.jpg      Peepla   Ficus religiosa             0\n",
       "4   IMG20231004154917.jpg      Peepla   Ficus religiosa             0\n",
       "..                    ...         ...               ...           ...\n",
       "92  IMG20231004172618.jpg       Pipal  Ficus amplissima            19\n",
       "93  IMG20231004172657.jpg       Pipal  Ficus amplissima            19\n",
       "94  IMG20231004172723.jpg       Pipal  Ficus amplissima            19\n",
       "95  IMG20231004172803.jpg       Pipal  Ficus amplissima            19\n",
       "96  IMG20231004172823.jpg       Pipal  Ficus amplissima            19\n",
       "\n",
       "[97 rows x 4 columns]"
      ]
     },
     "execution_count": 7,
     "metadata": {},
     "output_type": "execute_result"
    }
   ],
   "source": [
    "import pandas as pd\n",
    "\n",
    "df = pd.read_csv('Leaf_Data_Mapped.csv')\n",
    "df"
   ]
  },
  {
   "cell_type": "code",
   "execution_count": 35,
   "metadata": {},
   "outputs": [],
   "source": [
    "local_path = 'Collected Leaf data/Botany Collection/Natural/'\n",
    "_cnt = 0\n",
    "for image in df['Image']:\n",
    "    ImagePreprocess_Combination_2(local_path + image)\n",
    "    if _cnt == 10: break\n",
    "    _cnt += 1"
   ]
  },
  {
   "cell_type": "code",
   "execution_count": 8,
   "metadata": {},
   "outputs": [
    {
     "data": {
      "text/plain": [
       "['IMG_20231004_161936.jpg',\n",
       " 'IMG_20231004_162013.jpg',\n",
       " 'IMG_20231004_162043.jpg',\n",
       " 'IMG_20231004_164637.jpg',\n",
       " 'IMG_20231004_171344.jpg',\n",
       " 'IMG_20231004_171917.jpg',\n",
       " 'IMG_20231004_173050.jpg',\n",
       " 'IMG_20231004_203638.jpg',\n",
       " 'IMG_20231004_211127.jpg',\n",
       " 'IMG_20231004_211747.jpg']"
      ]
     },
     "execution_count": 8,
     "metadata": {},
     "output_type": "execute_result"
    }
   ],
   "source": [
    "image_blackBG_lst = mld.getImageNameList('BlackBG/')\n",
    "image_blackBG_lst"
   ]
  },
  {
   "cell_type": "code",
   "execution_count": 37,
   "metadata": {},
   "outputs": [],
   "source": [
    "local_path = 'BlackBG/'\n",
    "for image in image_blackBG_lst:\n",
    "    ImagePreprocess_Combination_2(local_path + image)"
   ]
  },
  {
   "cell_type": "markdown",
   "metadata": {},
   "source": [
    "# NEXT TASK\n",
    "\n",
    "1) Train a model on the black background images and also pre-process them along with segmentation.\n",
    "2) Create a prog that takes natural images, then creates multiple combinations with varying parameters of thresholding func, then puts the processed image into the model and gets the accuracy for any single class.\n",
    "3) Now train that model with that new image."
   ]
  },
  {
   "cell_type": "markdown",
   "metadata": {},
   "source": [
    "============================================================================================================================="
   ]
  },
  {
   "cell_type": "markdown",
   "metadata": {},
   "source": [
    "# EXPERIMENTS"
   ]
  },
  {
   "cell_type": "markdown",
   "metadata": {},
   "source": [
    "============================================================================================================================="
   ]
  },
  {
   "cell_type": "markdown",
   "metadata": {},
   "source": [
    "## Mapping completed and stored in Leaf_Data_Mapped.csv file"
   ]
  },
  {
   "cell_type": "markdown",
   "metadata": {},
   "source": [
    "-----------------------------------------------------------------------------------------------------------------------------"
   ]
  },
  {
   "cell_type": "markdown",
   "metadata": {},
   "source": [
    "-----------------------------------------------------------------------------------------------------------------------------"
   ]
  }
 ],
 "metadata": {
  "kernelspec": {
   "display_name": "Python 3 (ipykernel)",
   "language": "python",
   "name": "python3"
  },
  "language_info": {
   "codemirror_mode": {
    "name": "ipython",
    "version": 3
   },
   "file_extension": ".py",
   "mimetype": "text/x-python",
   "name": "python",
   "nbconvert_exporter": "python",
   "pygments_lexer": "ipython3",
   "version": "3.10.11"
  }
 },
 "nbformat": 4,
 "nbformat_minor": 2
}
