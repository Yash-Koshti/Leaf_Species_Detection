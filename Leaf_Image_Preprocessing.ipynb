{
 "cells": [
  {
   "cell_type": "markdown",
   "metadata": {},
   "source": [
    "# Image testing for pre-processing"
   ]
  },
  {
   "cell_type": "markdown",
   "metadata": {},
   "source": [
    "## Importing Modules"
   ]
  },
  {
   "cell_type": "code",
   "execution_count": 4,
   "metadata": {},
   "outputs": [],
   "source": [
    "import cv2 as cv\n",
    "import numpy as np\n",
    "import matplotlib.pyplot as plt\n",
    "import csv\n",
    "import json"
   ]
  },
  {
   "cell_type": "markdown",
   "metadata": {},
   "source": [
    "## Loading image"
   ]
  },
  {
   "cell_type": "code",
   "execution_count": 4,
   "metadata": {},
   "outputs": [],
   "source": [
    "img_1 = cv.imread('Collected Leaf data/Our Collection/Natural/IMG_20230922_171310509.jpg')\n",
    "cv.imshow('Raw Image', img_1)\n",
    "cv.waitKey(0)\n",
    "cv.destroyAllWindows()"
   ]
  },
  {
   "cell_type": "markdown",
   "metadata": {},
   "source": [
    "## Image Smoothening"
   ]
  },
  {
   "cell_type": "code",
   "execution_count": 5,
   "metadata": {},
   "outputs": [],
   "source": [
    "def GaussianSmoothing(mat):\n",
    "    _pi = 3.14\n",
    "    _sd = np.std(mat)\n",
    "    _e = 2.718\n",
    "    for y in range(len(mat)):\n",
    "        for x in range(len(mat[y])):\n",
    "            try:\n",
    "                mat[y][x] = ((1 / (2 * _pi * (_sd ** 2)))) * (_e ** (((x ** 2) + (y ** 2)) * (1 / (2 * (x ** 2)))))\n",
    "            except ZeroDivisionError:\n",
    "                pass\n",
    "    return mat"
   ]
  },
  {
   "cell_type": "code",
   "execution_count": 6,
   "metadata": {},
   "outputs": [],
   "source": [
    "# img_1_myGblur = GaussianSmoothing(cv.cvtColor(img_1, cv.COLOR_BGR2GRAY))\n",
    "\n",
    "# img_1_myGblur_resized = cv.resize(img_1_myGblur, (1000, 1000))\n",
    "# cv.imshow('Image Gaussian Blur & Resized', img_1_myGblur_resized)\n",
    "# cv.waitKey(0)\n",
    "# cv.destroyAllWindows()"
   ]
  },
  {
   "cell_type": "code",
   "execution_count": 7,
   "metadata": {},
   "outputs": [],
   "source": [
    "# img_1_resized_Gblur = cv.GaussianBlur(img_1_resized, (7,7), 0)\n",
    "# cv.imshow('Image Resized & Gaussian Blur', img_1_resized_Gblur)\n",
    "# cv.waitKey(0)\n",
    "# cv.destroyAllWindows()\n",
    "\n",
    "img_1_Gblur = cv.GaussianBlur(img_1, (7,7), 0)\n",
    "cv.imshow('Image Gaussian Blur', img_1_Gblur)\n",
    "cv.waitKey(0)\n",
    "cv.destroyAllWindows()"
   ]
  },
  {
   "cell_type": "markdown",
   "metadata": {},
   "source": [
    "## Image Resizing"
   ]
  },
  {
   "cell_type": "code",
   "execution_count": 8,
   "metadata": {},
   "outputs": [],
   "source": [
    "# img_1_resized = cv.resize(img_1, (int(img_1.shape[1] / 6), int(img_1.shape[0] / 6)))\n",
    "# cv.imshow('Image Resized', img_1_resized)\n",
    "# cv.waitKey(0)\n",
    "# cv.destroyAllWindows()\n",
    "\n",
    "img_1_Gblur_resized = cv.resize(img_1_Gblur, (1000, 1000))\n",
    "cv.imshow('Image Gaussian Blur & Resized', img_1_Gblur_resized)\n",
    "cv.waitKey(0)\n",
    "cv.destroyAllWindows()"
   ]
  },
  {
   "cell_type": "code",
   "execution_count": 9,
   "metadata": {},
   "outputs": [],
   "source": [
    "img_1_Gblur_resized_gray = cv.cvtColor(img_1_Gblur_resized, cv.COLOR_BGR2GRAY)\n",
    "cv.imshow('Image Gaussian Blur & Resized & Gray', img_1_Gblur_resized_gray)\n",
    "cv.waitKey(0)\n",
    "cv.destroyAllWindows()"
   ]
  },
  {
   "cell_type": "code",
   "execution_count": 10,
   "metadata": {},
   "outputs": [],
   "source": [
    "# Function to map each intensity level to output intensity level. \n",
    "def pixelVal(pix, r1, s1, r2, s2): \n",
    "\tif (0 <= pix and pix <= r1): \n",
    "\t\treturn (s1 / r1)*pix \n",
    "\telif (r1 < pix and pix <= r2): \n",
    "\t\treturn ((s2 - s1)/(r2 - r1)) * (pix - r1) + s1 \n",
    "\telse: \n",
    "\t\treturn ((255 - s2)/(255 - r2)) * (pix - r2) + s2 \n",
    "\n",
    "# Define parameters. \n",
    "r1 = 110 # controls darkness\n",
    "s1 = 0.15 # lower bound\n",
    "r2 = 7 # controls lightness\n",
    "s2 = 250 # upper bound\n",
    "\n",
    "# Vectorize the function to apply it to each value in the Numpy array. \n",
    "pixelVal_vec = np.vectorize(pixelVal) \n",
    "\n",
    "# Apply contrast stretching. \n",
    "img_1_contrast_stretched = pixelVal_vec(img_1_Gblur_resized_gray, r1, s1, r2, s2) \n",
    "\n",
    "cv.imshow('Contrast Stretching', img_1_contrast_stretched)\n",
    "cv.waitKey(0)\n",
    "cv.destroyAllWindows()\n"
   ]
  },
  {
   "cell_type": "code",
   "execution_count": 11,
   "metadata": {},
   "outputs": [],
   "source": [
    "img_thresh = cv.threshold(img_1_Gblur_resized_gray, 127, 255, cv.THRESH_BINARY)\n",
    "cv.imshow('Thresholding', img_thresh[1])\n",
    "cv.waitKey(0)\n",
    "cv.destroyAllWindows()\n",
    "\n",
    "# print(img_thresh)"
   ]
  },
  {
   "cell_type": "code",
   "execution_count": 12,
   "metadata": {},
   "outputs": [],
   "source": [
    "img_hist = cv.equalizeHist(img_thresh[1])\n",
    "cv.imshow('Histogram equlization', img_hist)\n",
    "cv.waitKey(0)\n",
    "cv.destroyAllWindows()"
   ]
  },
  {
   "cell_type": "markdown",
   "metadata": {},
   "source": [
    "## Combining these processes in a single function"
   ]
  },
  {
   "cell_type": "code",
   "execution_count": 13,
   "metadata": {},
   "outputs": [],
   "source": [
    "def ImagePreprocess(name: str):\n",
    "    cv.imshow('Final Image', pixelVal_vec(cv.resize(cv.GaussianBlur(cv.imread(name)\n",
    "                                           , (7,7), 0), \n",
    "                           (1000, 1000)), \n",
    "                r1, s1, r2, s2))\n",
    "    cv.waitKey(0)\n",
    "    cv.destroyAllWindows()"
   ]
  },
  {
   "cell_type": "code",
   "execution_count": 14,
   "metadata": {},
   "outputs": [],
   "source": [
    "ImagePreprocess('Collected Leaf data/Our Collection/Natural/IMG_20230922_171255218.jpg')"
   ]
  },
  {
   "cell_type": "code",
   "execution_count": 15,
   "metadata": {},
   "outputs": [],
   "source": [
    "ImagePreprocess('Collected Leaf data/Our Collection/Natural/IMG20230922165200.jpg')"
   ]
  },
  {
   "cell_type": "code",
   "execution_count": 16,
   "metadata": {},
   "outputs": [],
   "source": [
    "ImagePreprocess('Collected Leaf data/Our Collection/Natural/IMG20230922170108.jpg')"
   ]
  },
  {
   "cell_type": "code",
   "execution_count": 17,
   "metadata": {},
   "outputs": [],
   "source": [
    "ImagePreprocess('Collected Leaf data/Our Collection/Natural/IMG20230922170842.jpg')"
   ]
  },
  {
   "cell_type": "code",
   "execution_count": 19,
   "metadata": {},
   "outputs": [],
   "source": [
    "ImagePreprocess('Collected Leaf data/Botany Collection/Natural/IMG20231004155721.jpg')"
   ]
  },
  {
   "cell_type": "markdown",
   "metadata": {},
   "source": [
    "## Getting name of the images in a list."
   ]
  },
  {
   "cell_type": "code",
   "execution_count": 43,
   "metadata": {},
   "outputs": [],
   "source": [
    "from os import listdir\n",
    "from os.path import isfile, join\n",
    "myPath = \"Collected Leaf data/Botany Collection/Natural/\"\n",
    "\n",
    "def getImageNameList(path: str) -> list:\n",
    "    return [f for f in listdir(path) if isfile(join(path, f))]"
   ]
  },
  {
   "cell_type": "code",
   "execution_count": 44,
   "metadata": {},
   "outputs": [
    {
     "data": {
      "text/plain": [
       "['IMG20231004154634.jpg',\n",
       " 'IMG20231004154651.jpg',\n",
       " 'IMG20231004154748.jpg',\n",
       " 'IMG20231004154809.jpg',\n",
       " 'IMG20231004154917.jpg',\n",
       " 'IMG20231004155118.jpg',\n",
       " 'IMG20231004155132.jpg',\n",
       " 'IMG20231004155149.jpg',\n",
       " 'IMG20231004155213.jpg',\n",
       " 'IMG20231004155323.jpg',\n",
       " 'IMG20231004155327.jpg',\n",
       " 'IMG20231004155554.jpg',\n",
       " 'IMG20231004155602.jpg',\n",
       " 'IMG20231004155631.jpg',\n",
       " 'IMG20231004155642.jpg',\n",
       " 'IMG20231004155721.jpg',\n",
       " 'IMG20231004155801.jpg',\n",
       " 'IMG20231004155912.jpg',\n",
       " 'IMG20231004160002.jpg',\n",
       " 'IMG20231004160043.jpg',\n",
       " 'IMG20231004160236.jpg',\n",
       " 'IMG20231004160249.jpg',\n",
       " 'IMG20231004160505.jpg',\n",
       " 'IMG20231004160553.jpg',\n",
       " 'IMG20231004160623.jpg',\n",
       " 'IMG20231004160753.jpg',\n",
       " 'IMG20231004160822.jpg',\n",
       " 'IMG20231004161319.jpg',\n",
       " 'IMG20231004161328.jpg',\n",
       " 'IMG20231004161554.jpg',\n",
       " 'IMG20231004161653.jpg',\n",
       " 'IMG20231004161729.jpg',\n",
       " 'IMG20231004162025.jpg',\n",
       " 'IMG20231004162125.jpg',\n",
       " 'IMG20231004162157.jpg',\n",
       " 'IMG20231004162413.jpg',\n",
       " 'IMG20231004162427.jpg',\n",
       " 'IMG20231004162702.jpg',\n",
       " 'IMG20231004162730.jpg',\n",
       " 'IMG20231004162747.jpg',\n",
       " 'IMG20231004162812.jpg',\n",
       " 'IMG20231004162835.jpg',\n",
       " 'IMG20231004163116.jpg',\n",
       " 'IMG20231004163139.jpg',\n",
       " 'IMG20231004163201.jpg',\n",
       " 'IMG20231004163302.jpg',\n",
       " 'IMG20231004163335.jpg',\n",
       " 'IMG20231004163351.jpg',\n",
       " 'IMG20231004163640.jpg',\n",
       " 'IMG20231004163654.jpg',\n",
       " 'IMG20231004163721.jpg',\n",
       " 'IMG20231004163749.jpg',\n",
       " 'IMG20231004163822.jpg',\n",
       " 'IMG20231004163932.jpg',\n",
       " 'IMG20231004163946.jpg',\n",
       " 'IMG20231004163959.jpg',\n",
       " 'IMG20231004164057.jpg',\n",
       " 'IMG20231004164126.jpg',\n",
       " 'IMG20231004164153.jpg',\n",
       " 'IMG20231004164532.jpg',\n",
       " 'IMG20231004164609.jpg',\n",
       " 'IMG20231004164631.jpg',\n",
       " 'IMG20231004164708.jpg',\n",
       " 'IMG20231004164735.jpg',\n",
       " 'IMG20231004164903.jpg',\n",
       " 'IMG20231004164943.jpg',\n",
       " 'IMG20231004165002.jpg',\n",
       " 'IMG20231004165025.jpg',\n",
       " 'IMG20231004165059.jpg',\n",
       " 'IMG20231004170241.jpg',\n",
       " 'IMG20231004170252.jpg',\n",
       " 'IMG20231004170301.jpg',\n",
       " 'IMG20231004170314.jpg',\n",
       " 'IMG20231004170420.jpg',\n",
       " 'IMG20231004170627.jpg',\n",
       " 'IMG20231004170649.jpg',\n",
       " 'IMG20231004170801.jpg',\n",
       " 'IMG20231004170854.jpg',\n",
       " 'IMG20231004170946.jpg',\n",
       " 'IMG20231004171251.jpg',\n",
       " 'IMG20231004171305.jpg',\n",
       " 'IMG20231004171335.jpg',\n",
       " 'IMG20231004171401.jpg',\n",
       " 'IMG20231004171450.jpg',\n",
       " 'IMG20231004171603.jpg',\n",
       " 'IMG20231004171616.jpg',\n",
       " 'IMG20231004171644.jpg',\n",
       " 'IMG20231004171909.jpg',\n",
       " 'IMG20231004171940.jpg',\n",
       " 'IMG20231004172100.jpg',\n",
       " 'IMG20231004172128.jpg',\n",
       " 'IMG20231004172301.jpg',\n",
       " 'IMG20231004172618.jpg',\n",
       " 'IMG20231004172657.jpg',\n",
       " 'IMG20231004172723.jpg',\n",
       " 'IMG20231004172803.jpg',\n",
       " 'IMG20231004172823.jpg']"
      ]
     },
     "execution_count": 44,
     "metadata": {},
     "output_type": "execute_result"
    }
   ],
   "source": [
    "image_name_lst = getImageNameList(myPath)\n",
    "image_name_lst"
   ]
  },
  {
   "cell_type": "code",
   "execution_count": 3,
   "metadata": {},
   "outputs": [],
   "source": [
    "fields = ['Image', 'Common name', 'Scientific name', 'Class number']"
   ]
  },
  {
   "cell_type": "code",
   "execution_count": 13,
   "metadata": {},
   "outputs": [],
   "source": [
    "classes = [\n",
    "    ['Peepla', 'Ficus religiosa'],\n",
    "    ['Borsalli', 'Mimusops elengi'],\n",
    "    ['Kamani', 'Murraya paniculata'],\n",
    "    ['Jasud', 'Hibiscus rosa sinensis'],\n",
    "    ['Bamboo', 'Bambusa vulguris'],\n",
    "    ['Clusters fig', 'Ficus racemosa'],\n",
    "    ['Wedelia', 'Wedelia chinensis'],\n",
    "    ['Rosy trumpet tree', 'Tabebuia rosea'],\n",
    "    ['Ixora', 'Ixora coccinea'],\n",
    "    ['Nagchampo', 'Plumeria pudica'],\n",
    "    ['Jatropha', 'Jatropha integerrima'],\n",
    "    ['Aralia', 'Aralia variegated'],\n",
    "    ['Kadam', 'Neolamarckia cadamba'],\n",
    "    ['Asopalav', 'Polyalthia longifolium'],\n",
    "    ['Weeping fig', 'Ficus benjamina'],\n",
    "    ['Tulsi', 'Ocimum sanctum'],\n",
    "    ['Jambu', 'Syzygium cumini'],\n",
    "    ['Karanj', 'Pongamia pinnata'],\n",
    "    ['Quick stick', 'Gliricidia sepium'],\n",
    "    ['Pipal', 'Ficus amplissima']\n",
    "]\n",
    "\n",
    "classes_json_data = dict(zip(range(len(classes)), classes))\n",
    "\n",
    "with open('Classes.json', 'w') as Jfile:\n",
    "    json.dump(classes_json_data, Jfile, indent=4)"
   ]
  },
  {
   "cell_type": "code",
   "execution_count": 29,
   "metadata": {},
   "outputs": [],
   "source": [
    "def mappingLeafData(path: str, imageNameLst: list) -> list:\n",
    "    mappedRows = list()\n",
    "    \n",
    "    with open('Classes.json', 'r') as Jfile:\n",
    "        _classes = json.load(Jfile)\n",
    "    \n",
    "    for imageName in imageNameLst:\n",
    "        row = list()\n",
    "        \n",
    "        # Show image\n",
    "        image = cv.imread(path + imageName)\n",
    "        plt.imshow(image)\n",
    "        plt.show()\n",
    "\n",
    "        # Display classes\n",
    "        for index in range(len(_classes)):\n",
    "            index = str(index)\n",
    "            print(index, \")\", _classes[index][0], \"/\", _classes[index][1])\n",
    "\n",
    "        choice = input(\"\\nEnter choice: \")\n",
    "        \n",
    "        row.append(imageName)\n",
    "        row.append(_classes[choice][0])\n",
    "        row.append(_classes[choice][1])\n",
    "        row.append(int(choice))\n",
    "\n",
    "        mappedRows.append(row)\n",
    "        # if len(mappedRows) == 1: break\n",
    "    return mappedRows"
   ]
  },
  {
   "cell_type": "markdown",
   "metadata": {},
   "source": [
    "## Mapping images of 'Botany Collection/Natural/'"
   ]
  },
  {
   "cell_type": "code",
   "execution_count": 39,
   "metadata": {},
   "outputs": [],
   "source": [
    "# rows = mappingLeafData(myPath, image_name_lst)"
   ]
  },
  {
   "cell_type": "code",
   "execution_count": 40,
   "metadata": {},
   "outputs": [
    {
     "data": {
      "text/plain": [
       "'\\nMapping completed and stored in Lead_Data_Mapped.csv file\\n'"
      ]
     },
     "execution_count": 40,
     "metadata": {},
     "output_type": "execute_result"
    }
   ],
   "source": [
    "with open('Leaf_Data_Mapped.csv', 'w', newline='') as csvfile:\n",
    "\t# creating a csv writer object \n",
    "\tcsvwriter = csv.writer(csvfile)\n",
    "\t\t\n",
    "\t# writing the fields \n",
    "\tcsvwriter.writerow(fields)\n",
    "\t\t\n",
    "\t# writing the data rows \n",
    "\tcsvwriter.writerows(rows)\n",
    "\n",
    "\"\"\"\n",
    "Mapping completed and stored in Lead_Data_Mapped.csv file\n",
    "\"\"\"\n"
   ]
  }
 ],
 "metadata": {
  "kernelspec": {
   "display_name": "Python 3 (ipykernel)",
   "language": "python",
   "name": "python3"
  },
  "language_info": {
   "codemirror_mode": {
    "name": "ipython",
    "version": 3
   },
   "file_extension": ".py",
   "mimetype": "text/x-python",
   "name": "python",
   "nbconvert_exporter": "python",
   "pygments_lexer": "ipython3",
   "version": "3.10.11"
  }
 },
 "nbformat": 4,
 "nbformat_minor": 2
}
