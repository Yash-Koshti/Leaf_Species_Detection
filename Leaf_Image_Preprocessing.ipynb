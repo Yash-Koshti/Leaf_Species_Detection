{
 "cells": [
  {
   "cell_type": "markdown",
   "metadata": {},
   "source": [
    "# Image testing for pre-processing"
   ]
  },
  {
   "cell_type": "markdown",
   "metadata": {},
   "source": [
    "## Importing Modules"
   ]
  },
  {
   "cell_type": "code",
   "execution_count": 1,
   "metadata": {},
   "outputs": [],
   "source": [
    "import cv2 as cv\n",
    "import numpy as np\n",
    "import matplotlib.pyplot as plt\n",
    "\n",
    "import csv\n",
    "import json\n",
    "from os import listdir\n",
    "from os.path import isfile, join\n",
    "\n",
    "from ManageLeafData import ManageLeafData as mld"
   ]
  },
  {
   "cell_type": "markdown",
   "metadata": {},
   "source": [
    "## Loading image"
   ]
  },
  {
   "cell_type": "code",
   "execution_count": 2,
   "metadata": {},
   "outputs": [],
   "source": [
    "img_1 = cv.imread('IMG_20230922_171310509.jpg')\n",
    "cv.imshow('Raw Image', img_1)\n",
    "cv.waitKey(0)\n",
    "cv.destroyAllWindows()"
   ]
  },
  {
   "cell_type": "code",
   "execution_count": 3,
   "metadata": {},
   "outputs": [],
   "source": [
    "image_lst = ['IMG_20230922_171255218.jpg', 'IMG20230922165200.jpg', 'IMG20230922170108.jpg', 'IMG20230922170842.jpg', 'IMG20231004155721.jpg']"
   ]
  },
  {
   "cell_type": "markdown",
   "metadata": {},
   "source": [
    "## Image Smoothening"
   ]
  },
  {
   "cell_type": "code",
   "execution_count": 4,
   "metadata": {},
   "outputs": [],
   "source": [
    "def GaussianSmoothing(mat):\n",
    "    _pi = 3.14\n",
    "    _sd = np.std(mat)\n",
    "    _e = 2.718\n",
    "    for y in range(len(mat)):\n",
    "        for x in range(len(mat[y])):\n",
    "            try:\n",
    "                mat[y][x] = ((1 / (2 * _pi * (_sd ** 2)))) * (_e ** (((x ** 2) + (y ** 2)) * (1 / (2 * (x ** 2)))))\n",
    "            except ZeroDivisionError:\n",
    "                pass\n",
    "    return mat"
   ]
  },
  {
   "cell_type": "code",
   "execution_count": 5,
   "metadata": {},
   "outputs": [],
   "source": [
    "# img_1_myGblur = GaussianSmoothing(cv.cvtColor(img_1, cv.COLOR_BGR2GRAY))\n",
    "\n",
    "# img_1_myGblur_resized = cv.resize(img_1_myGblur, (1000, 1000))\n",
    "# cv.imshow('Image Gaussian Blur & Resized', img_1_myGblur_resized)\n",
    "# cv.waitKey(0)\n",
    "# cv.destroyAllWindows()"
   ]
  },
  {
   "cell_type": "code",
   "execution_count": 6,
   "metadata": {},
   "outputs": [],
   "source": [
    "# img_1_resized_Gblur = cv.GaussianBlur(img_1_resized, (7,7), 0)\n",
    "# cv.imshow('Image Resized & Gaussian Blur', img_1_resized_Gblur)\n",
    "# cv.waitKey(0)\n",
    "# cv.destroyAllWindows()\n",
    "\n",
    "img_1_Gblur = cv.GaussianBlur(img_1, (7,7), 0)\n",
    "cv.imshow('Image Gaussian Blur', img_1_Gblur)\n",
    "cv.waitKey(0)\n",
    "cv.destroyAllWindows()"
   ]
  },
  {
   "cell_type": "markdown",
   "metadata": {},
   "source": [
    "## Image Resizing"
   ]
  },
  {
   "cell_type": "code",
   "execution_count": 7,
   "metadata": {},
   "outputs": [],
   "source": [
    "# img_1_resized = cv.resize(img_1, (int(img_1.shape[1] / 6), int(img_1.shape[0] / 6)))\n",
    "# cv.imshow('Image Resized', img_1_resized)\n",
    "# cv.waitKey(0)\n",
    "# cv.destroyAllWindows()\n",
    "\n",
    "img_1_Gblur_resized = cv.resize(img_1_Gblur, (1000, 1000))\n",
    "cv.imshow('Image Gaussian Blur & Resized', img_1_Gblur_resized)\n",
    "cv.waitKey(0)\n",
    "cv.destroyAllWindows()"
   ]
  },
  {
   "cell_type": "code",
   "execution_count": 8,
   "metadata": {},
   "outputs": [],
   "source": [
    "img_1_Gblur_resized_gray = cv.cvtColor(img_1_Gblur_resized, cv.COLOR_BGR2GRAY)\n",
    "cv.imshow('Image Gaussian Blur & Resized & Gray', img_1_Gblur_resized_gray)\n",
    "cv.waitKey(0)\n",
    "cv.destroyAllWindows()"
   ]
  },
  {
   "cell_type": "code",
   "execution_count": 9,
   "metadata": {},
   "outputs": [],
   "source": [
    "# Function to map each intensity level to output intensity level. \n",
    "def pixelVal(pix, r1, s1, r2, s2): \n",
    "    if (0 <= pix and pix <= r1): \n",
    "        return (s1 / r1)*pix \n",
    "    elif (r1 < pix and pix <= r2): \n",
    "        return ((s2 - s1)/(r2 - r1)) * (pix - r1) + s1 \n",
    "    else: \n",
    "        return ((255 - s2)/(255 - r2)) * (pix - r2) + s2 \n",
    "\n",
    "# Define parameters. \n",
    "r1 = 110 # controls darkness\n",
    "s1 = 0.15 # lower bound\n",
    "r2 = 7 # controls lightness\n",
    "s2 = 250 # upper bound\n",
    "\n",
    "# Vectorize the function to apply it to each value in the Numpy array. \n",
    "pixelVal_vec = np.vectorize(pixelVal) \n",
    "\n",
    "# Apply contrast stretching. \n",
    "img_1_contrast_stretched = pixelVal_vec(img_1_Gblur_resized_gray, r1, s1, r2, s2) \n",
    "\n",
    "cv.imshow('Contrast Stretching', img_1_contrast_stretched)\n",
    "cv.waitKey(0)\n",
    "cv.destroyAllWindows()\n"
   ]
  },
  {
   "cell_type": "code",
   "execution_count": 10,
   "metadata": {},
   "outputs": [],
   "source": [
    "img_thresh = cv.threshold(img_1_Gblur_resized_gray, 127, 255, cv.THRESH_BINARY)\n",
    "cv.imshow('Thresholding', img_thresh[1])\n",
    "cv.waitKey(0)\n",
    "cv.destroyAllWindows()\n",
    "\n",
    "# print(img_thresh)"
   ]
  },
  {
   "cell_type": "code",
   "execution_count": 11,
   "metadata": {},
   "outputs": [],
   "source": [
    "img_thresh1 = cv.adaptiveThreshold(img_1_Gblur_resized_gray, 255, cv.ADAPTIVE_THRESH_MEAN_C, cv.THRESH_BINARY, 199, 0)\n",
    "cv.imshow('Thresholding', img_thresh1)\n",
    "# cv.waitKey(0)\n",
    "# cv.destroyAllWindows()"
   ]
  },
  {
   "cell_type": "code",
   "execution_count": 12,
   "metadata": {},
   "outputs": [],
   "source": [
    "img_thresh1 = cv.adaptiveThreshold(img_1_Gblur_resized_gray, 255, cv.ADAPTIVE_THRESH_MEAN_C, cv.THRESH_BINARY, 199, 3)\n",
    "cv.imshow('Thresholding1', img_thresh1)\n",
    "img_thresh2 = cv.adaptiveThreshold(img_1_Gblur_resized_gray, 255, cv.ADAPTIVE_THRESH_MEAN_C, cv.THRESH_BINARY, 199, 4)\n",
    "cv.imshow('Thresholding2', img_thresh2)\n",
    "img_thresh3 = cv.adaptiveThreshold(img_1_Gblur_resized_gray, 255, cv.ADAPTIVE_THRESH_MEAN_C, cv.THRESH_BINARY, 199, 5)\n",
    "cv.imshow('Thresholding3', img_thresh3)\n",
    "cv.waitKey(0)\n",
    "cv.destroyAllWindows()"
   ]
  },
  {
   "cell_type": "code",
   "execution_count": 13,
   "metadata": {},
   "outputs": [
    {
     "ename": "error",
     "evalue": "OpenCV(4.7.0) :-1: error: (-5:Bad argument) in function 'equalizeHist'\n> Overload resolution failed:\n>  - src is not a numerical tuple\n>  - Expected Ptr<cv::UMat> for argument 'src'\n",
     "output_type": "error",
     "traceback": [
      "\u001b[1;31m---------------------------------------------------------------------------\u001b[0m",
      "\u001b[1;31merror\u001b[0m                                     Traceback (most recent call last)",
      "Cell \u001b[1;32mIn[13], line 1\u001b[0m\n\u001b[1;32m----> 1\u001b[0m img_hist \u001b[38;5;241m=\u001b[39m \u001b[43mcv\u001b[49m\u001b[38;5;241;43m.\u001b[39;49m\u001b[43mequalizeHist\u001b[49m\u001b[43m(\u001b[49m\u001b[43mimg_thresh\u001b[49m\u001b[43m)\u001b[49m\n\u001b[0;32m      2\u001b[0m cv\u001b[38;5;241m.\u001b[39mimshow(\u001b[38;5;124m'\u001b[39m\u001b[38;5;124mHistogram equlization\u001b[39m\u001b[38;5;124m'\u001b[39m, img_hist)\n\u001b[0;32m      3\u001b[0m cv\u001b[38;5;241m.\u001b[39mwaitKey(\u001b[38;5;241m0\u001b[39m)\n",
      "\u001b[1;31merror\u001b[0m: OpenCV(4.7.0) :-1: error: (-5:Bad argument) in function 'equalizeHist'\n> Overload resolution failed:\n>  - src is not a numerical tuple\n>  - Expected Ptr<cv::UMat> for argument 'src'\n"
     ]
    }
   ],
   "source": [
    "img_hist = cv.equalizeHist(img_thresh)\n",
    "cv.imshow('Histogram equlization', img_hist)\n",
    "cv.waitKey(0)\n",
    "cv.destroyAllWindows()"
   ]
  },
  {
   "cell_type": "markdown",
   "metadata": {},
   "source": [
    "## Combining these processes in a single function"
   ]
  },
  {
   "cell_type": "code",
   "execution_count": 14,
   "metadata": {},
   "outputs": [],
   "source": [
    "def ImagePreprocess_Combination_1(name: str):\n",
    "    cv.imshow('Final Image', pixelVal_vec(cv.resize(cv.GaussianBlur(cv.imread(name)\n",
    "                                           , (7,7), 0), \n",
    "                           (1000, 1000)), \n",
    "                r1, s1, r2, s2))\n",
    "    cv.waitKey(0)\n",
    "    cv.destroyAllWindows()"
   ]
  },
  {
   "cell_type": "code",
   "execution_count": 30,
   "metadata": {},
   "outputs": [],
   "source": [
    "def ImagePreprocess_Combination_2(name: str):\n",
    "    cv.imshow('Final Image', cv.equalizeHist(cv.adaptiveThreshold(cv.cvtColor(cv.resize(cv.GaussianBlur(cv.imread(name)\n",
    "                                                                                                        , (7,7), 0)\n",
    "                                                                                        , (1000, 1000))\n",
    "                                                                              , cv.COLOR_BGR2GRAY)\n",
    "                                                                  , 255, cv.ADAPTIVE_THRESH_MEAN_C, cv.THRESH_BINARY, 199, 5)\n",
    "                                            )\n",
    "             )\n",
    "    cv.waitKey(0)\n",
    "    cv.destroyAllWindows()"
   ]
  },
  {
   "cell_type": "code",
   "execution_count": 25,
   "metadata": {},
   "outputs": [],
   "source": [
    "for image in image_lst:\n",
    "    ImagePreprocess_Combination_2(image)"
   ]
  },
  {
   "cell_type": "code",
   "execution_count": 26,
   "metadata": {},
   "outputs": [
    {
     "data": {
      "text/html": [
       "<div>\n",
       "<style scoped>\n",
       "    .dataframe tbody tr th:only-of-type {\n",
       "        vertical-align: middle;\n",
       "    }\n",
       "\n",
       "    .dataframe tbody tr th {\n",
       "        vertical-align: top;\n",
       "    }\n",
       "\n",
       "    .dataframe thead th {\n",
       "        text-align: right;\n",
       "    }\n",
       "</style>\n",
       "<table border=\"1\" class=\"dataframe\">\n",
       "  <thead>\n",
       "    <tr style=\"text-align: right;\">\n",
       "      <th></th>\n",
       "      <th>Image</th>\n",
       "      <th>Common name</th>\n",
       "      <th>Scientific name</th>\n",
       "      <th>Class number</th>\n",
       "    </tr>\n",
       "  </thead>\n",
       "  <tbody>\n",
       "    <tr>\n",
       "      <th>0</th>\n",
       "      <td>IMG20231004154634.jpg</td>\n",
       "      <td>Peepla</td>\n",
       "      <td>Ficus religiosa</td>\n",
       "      <td>0</td>\n",
       "    </tr>\n",
       "    <tr>\n",
       "      <th>1</th>\n",
       "      <td>IMG20231004154651.jpg</td>\n",
       "      <td>Peepla</td>\n",
       "      <td>Ficus religiosa</td>\n",
       "      <td>0</td>\n",
       "    </tr>\n",
       "    <tr>\n",
       "      <th>2</th>\n",
       "      <td>IMG20231004154748.jpg</td>\n",
       "      <td>Peepla</td>\n",
       "      <td>Ficus religiosa</td>\n",
       "      <td>0</td>\n",
       "    </tr>\n",
       "    <tr>\n",
       "      <th>3</th>\n",
       "      <td>IMG20231004154809.jpg</td>\n",
       "      <td>Peepla</td>\n",
       "      <td>Ficus religiosa</td>\n",
       "      <td>0</td>\n",
       "    </tr>\n",
       "    <tr>\n",
       "      <th>4</th>\n",
       "      <td>IMG20231004154917.jpg</td>\n",
       "      <td>Peepla</td>\n",
       "      <td>Ficus religiosa</td>\n",
       "      <td>0</td>\n",
       "    </tr>\n",
       "    <tr>\n",
       "      <th>...</th>\n",
       "      <td>...</td>\n",
       "      <td>...</td>\n",
       "      <td>...</td>\n",
       "      <td>...</td>\n",
       "    </tr>\n",
       "    <tr>\n",
       "      <th>92</th>\n",
       "      <td>IMG20231004172618.jpg</td>\n",
       "      <td>Pipal</td>\n",
       "      <td>Ficus amplissima</td>\n",
       "      <td>19</td>\n",
       "    </tr>\n",
       "    <tr>\n",
       "      <th>93</th>\n",
       "      <td>IMG20231004172657.jpg</td>\n",
       "      <td>Pipal</td>\n",
       "      <td>Ficus amplissima</td>\n",
       "      <td>19</td>\n",
       "    </tr>\n",
       "    <tr>\n",
       "      <th>94</th>\n",
       "      <td>IMG20231004172723.jpg</td>\n",
       "      <td>Pipal</td>\n",
       "      <td>Ficus amplissima</td>\n",
       "      <td>19</td>\n",
       "    </tr>\n",
       "    <tr>\n",
       "      <th>95</th>\n",
       "      <td>IMG20231004172803.jpg</td>\n",
       "      <td>Pipal</td>\n",
       "      <td>Ficus amplissima</td>\n",
       "      <td>19</td>\n",
       "    </tr>\n",
       "    <tr>\n",
       "      <th>96</th>\n",
       "      <td>IMG20231004172823.jpg</td>\n",
       "      <td>Pipal</td>\n",
       "      <td>Ficus amplissima</td>\n",
       "      <td>19</td>\n",
       "    </tr>\n",
       "  </tbody>\n",
       "</table>\n",
       "<p>97 rows × 4 columns</p>\n",
       "</div>"
      ],
      "text/plain": [
       "                    Image Common name   Scientific name  Class number\n",
       "0   IMG20231004154634.jpg      Peepla   Ficus religiosa             0\n",
       "1   IMG20231004154651.jpg      Peepla   Ficus religiosa             0\n",
       "2   IMG20231004154748.jpg      Peepla   Ficus religiosa             0\n",
       "3   IMG20231004154809.jpg      Peepla   Ficus religiosa             0\n",
       "4   IMG20231004154917.jpg      Peepla   Ficus religiosa             0\n",
       "..                    ...         ...               ...           ...\n",
       "92  IMG20231004172618.jpg       Pipal  Ficus amplissima            19\n",
       "93  IMG20231004172657.jpg       Pipal  Ficus amplissima            19\n",
       "94  IMG20231004172723.jpg       Pipal  Ficus amplissima            19\n",
       "95  IMG20231004172803.jpg       Pipal  Ficus amplissima            19\n",
       "96  IMG20231004172823.jpg       Pipal  Ficus amplissima            19\n",
       "\n",
       "[97 rows x 4 columns]"
      ]
     },
     "execution_count": 26,
     "metadata": {},
     "output_type": "execute_result"
    }
   ],
   "source": [
    "import pandas as pd\n",
    "\n",
    "df = pd.read_csv('Leaf_Data_Mapped.csv')\n",
    "df"
   ]
  },
  {
   "cell_type": "code",
   "execution_count": 27,
   "metadata": {},
   "outputs": [],
   "source": [
    "for image in df['Image']:\n",
    "    ImagePreprocess_Combination_2('Natural/' + image)"
   ]
  },
  {
   "cell_type": "code",
   "execution_count": 33,
   "metadata": {},
   "outputs": [
    {
     "data": {
      "text/plain": [
       "['IMG_20231004_160720.jpg',\n",
       " 'IMG_20231004_161958.jpg',\n",
       " 'IMG_20231004_162249.jpg',\n",
       " 'IMG_20231004_162417.jpg',\n",
       " 'IMG_20231004_162740.jpg',\n",
       " 'IMG_20231004_163320.jpg',\n",
       " 'IMG_20231004_164307.jpg',\n",
       " 'IMG_20231004_165618.jpg',\n",
       " 'IMG_20231004_170900.jpg',\n",
       " 'IMG_20231004_171728.jpg']"
      ]
     },
     "execution_count": 33,
     "metadata": {},
     "output_type": "execute_result"
    }
   ],
   "source": [
    "image_blackBG_lst = mld.getImageNameList('BlackBG/')\n",
    "image_blackBG_lst"
   ]
  },
  {
   "cell_type": "code",
   "execution_count": 34,
   "metadata": {},
   "outputs": [],
   "source": [
    "for image in image_blackBG_lst:\n",
    "    ImagePreprocess_Combination_2('BlackBG/' + image)"
   ]
  },
  {
   "cell_type": "markdown",
   "metadata": {},
   "source": [
    "## Getting name of the images in a list."
   ]
  },
  {
   "cell_type": "code",
   "execution_count": null,
   "metadata": {},
   "outputs": [],
   "source": [
    "myPath = \"Collected Leaf data/Botany Collection/Natural/\""
   ]
  },
  {
   "cell_type": "markdown",
   "metadata": {},
   "source": [
    "## Mapping images of 'Botany Collection/Natural/'"
   ]
  },
  {
   "cell_type": "markdown",
   "metadata": {},
   "source": [
    "## Mapping completed and stored in Lead_Data_Mapped.csv file"
   ]
  },
  {
   "cell_type": "markdown",
   "metadata": {},
   "source": [
    "## Testing ManageLeafData"
   ]
  },
  {
   "cell_type": "code",
   "execution_count": null,
   "metadata": {},
   "outputs": [],
   "source": [
    "# mld.createSpeciesJsonFile()"
   ]
  },
  {
   "cell_type": "code",
   "execution_count": null,
   "metadata": {},
   "outputs": [],
   "source": [
    "# mld.readSpeciesJsonFile()"
   ]
  }
 ],
 "metadata": {
  "kernelspec": {
   "display_name": "Python 3 (ipykernel)",
   "language": "python",
   "name": "python3"
  },
  "language_info": {
   "codemirror_mode": {
    "name": "ipython",
    "version": 3
   },
   "file_extension": ".py",
   "mimetype": "text/x-python",
   "name": "python",
   "nbconvert_exporter": "python",
   "pygments_lexer": "ipython3",
   "version": "3.10.9"
  }
 },
 "nbformat": 4,
 "nbformat_minor": 2
}
